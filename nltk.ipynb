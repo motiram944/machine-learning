{
  "nbformat": 4,
  "nbformat_minor": 0,
  "metadata": {
    "colab": {
      "name": "nltk.ipynb",
      "provenance": [],
      "authorship_tag": "ABX9TyMsRJT8wucCKCW8nM10Y163",
      "include_colab_link": true
    },
    "kernelspec": {
      "name": "python3",
      "display_name": "Python 3"
    }
  },
  "cells": [
    {
      "cell_type": "markdown",
      "metadata": {
        "id": "view-in-github",
        "colab_type": "text"
      },
      "source": [
        "<a href=\"https://colab.research.google.com/github/motiram944/machine-learning/blob/Main/nltk.ipynb\" target=\"_parent\"><img src=\"https://colab.research.google.com/assets/colab-badge.svg\" alt=\"Open In Colab\"/></a>"
      ]
    },
    {
      "cell_type": "code",
      "metadata": {
        "id": "GNyNLf4dd1tq"
      },
      "source": [
        "import nltk"
      ],
      "execution_count": null,
      "outputs": []
    },
    {
      "cell_type": "code",
      "metadata": {
        "colab": {
          "base_uri": "https://localhost:8080/"
        },
        "id": "6ebgwP_8glsW",
        "outputId": "1f038a49-1495-4086-f270-c5bf34ddb4ca"
      },
      "source": [
        "nltk.download('punkt')"
      ],
      "execution_count": null,
      "outputs": [
        {
          "output_type": "stream",
          "text": [
            "[nltk_data] Downloading package punkt to /root/nltk_data...\n",
            "[nltk_data]   Unzipping tokenizers/punkt.zip.\n"
          ],
          "name": "stdout"
        },
        {
          "output_type": "execute_result",
          "data": {
            "text/plain": [
              "True"
            ]
          },
          "metadata": {
            "tags": []
          },
          "execution_count": 9
        }
      ]
    },
    {
      "cell_type": "code",
      "metadata": {
        "id": "YjapgYGxguqy"
      },
      "source": [
        "from nltk import sent_tokenize\n",
        "text=''' they say too few people now carry the gene for blondes to last beyond the next tw\n",
        "t blonde hair is caused by a recessive gene . In order for a child to have blonde\n",
        "to have blonde hair , it must have the gene on both sides of the family in the gra\n",
        "there is a disadvantage of having that gene or by chance . They don ' t disappear\n",
        "ondes would disappear is if having the gene was a disadvantage and I do not think'''"
      ],
      "execution_count": null,
      "outputs": []
    },
    {
      "cell_type": "code",
      "metadata": {
        "colab": {
          "base_uri": "https://localhost:8080/"
        },
        "id": "2Fhj2Wl_heE_",
        "outputId": "9a4f2aaf-0ad2-4ee3-e166-f462a38da23e"
      },
      "source": [
        "st=sent_tokenize(text)\n",
        "print(st)"
      ],
      "execution_count": null,
      "outputs": [
        {
          "output_type": "stream",
          "text": [
            "[' they say too few people now carry the gene for blondes to last beyond the next tw\\nt blonde hair is caused by a recessive gene .', 'In order for a child to have blonde\\nto have blonde hair , it must have the gene on both sides of the family in the gra\\nthere is a disadvantage of having that gene or by chance .', \"They don ' t disappear\\nondes would disappear is if having the gene was a disadvantage and I do not think\"]\n"
          ],
          "name": "stdout"
        }
      ]
    },
    {
      "cell_type": "code",
      "metadata": {
        "colab": {
          "base_uri": "https://localhost:8080/"
        },
        "id": "7ZDdh9l_iRcS",
        "outputId": "5c34c894-1c0e-482a-8c96-1b2709a00442"
      },
      "source": [
        "import nltk\n",
        "nltk.download('stopwords')"
      ],
      "execution_count": null,
      "outputs": [
        {
          "output_type": "stream",
          "text": [
            "[nltk_data] Downloading package stopwords to /root/nltk_data...\n",
            "[nltk_data]   Unzipping corpora/stopwords.zip.\n"
          ],
          "name": "stdout"
        },
        {
          "output_type": "execute_result",
          "data": {
            "text/plain": [
              "True"
            ]
          },
          "metadata": {
            "tags": []
          },
          "execution_count": 15
        }
      ]
    },
    {
      "cell_type": "code",
      "metadata": {
        "colab": {
          "base_uri": "https://localhost:8080/"
        },
        "id": "4J5-RM4eiDjw",
        "outputId": "156380d7-1dd1-4ef9-c73c-9a809d67722e"
      },
      "source": [
        "from nltk.corpus import stopwords  \n",
        "from nltk.tokenize import word_tokenize  \n",
        "  \n",
        "example_sent =''' they say too few people now carry the gene for blondes to last beyond the next tw\n",
        "t blonde hair is caused by a recessive gene . In order for a child to have blonde\n",
        "to have blonde hair , it must have the gene on both sides of the family in the gra\n",
        "there is a disadvantage of having that gene or by chance . They don ' t disappear\n",
        "ondes would disappear is if having the gene was a disadvantage and I do not think'''\n",
        "  \n",
        "stop_words = set(stopwords.words('english'))  \n",
        "  \n",
        "word_tokens = word_tokenize(example_sent)  \n",
        "  \n",
        "filtered_sentence = [w for w in word_tokens if not w in stop_words]  \n",
        "  \n",
        "filtered_sentence = []  \n",
        "  \n",
        "for w in word_tokens:  \n",
        "    if w not in stop_words:  \n",
        "        filtered_sentence.append(w)  \n",
        "  \n",
        "print(word_tokens)  \n",
        "print(filtered_sentence)"
      ],
      "execution_count": null,
      "outputs": [
        {
          "output_type": "stream",
          "text": [
            "['they', 'say', 'too', 'few', 'people', 'now', 'carry', 'the', 'gene', 'for', 'blondes', 'to', 'last', 'beyond', 'the', 'next', 'tw', 't', 'blonde', 'hair', 'is', 'caused', 'by', 'a', 'recessive', 'gene', '.', 'In', 'order', 'for', 'a', 'child', 'to', 'have', 'blonde', 'to', 'have', 'blonde', 'hair', ',', 'it', 'must', 'have', 'the', 'gene', 'on', 'both', 'sides', 'of', 'the', 'family', 'in', 'the', 'gra', 'there', 'is', 'a', 'disadvantage', 'of', 'having', 'that', 'gene', 'or', 'by', 'chance', '.', 'They', 'don', \"'\", 't', 'disappear', 'ondes', 'would', 'disappear', 'is', 'if', 'having', 'the', 'gene', 'was', 'a', 'disadvantage', 'and', 'I', 'do', 'not', 'think']\n",
            "['say', 'people', 'carry', 'gene', 'blondes', 'last', 'beyond', 'next', 'tw', 'blonde', 'hair', 'caused', 'recessive', 'gene', '.', 'In', 'order', 'child', 'blonde', 'blonde', 'hair', ',', 'must', 'gene', 'sides', 'family', 'gra', 'disadvantage', 'gene', 'chance', '.', 'They', \"'\", 'disappear', 'ondes', 'would', 'disappear', 'gene', 'disadvantage', 'I', 'think']\n"
          ],
          "name": "stdout"
        }
      ]
    },
    {
      "cell_type": "code",
      "metadata": {
        "colab": {
          "base_uri": "https://localhost:8080/"
        },
        "id": "hLrAeh4qi9LH",
        "outputId": "0abc4aaf-6d9d-4b8d-bdaa-748be0dc32ee"
      },
      "source": [
        "from nltk.stem import PorterStemmer \n",
        "from nltk.tokenize import word_tokenize \n",
        "\n",
        "ps = PorterStemmer() \n",
        "\n",
        "sentence = ''' they say too few people now carry the gene for blondes to last beyond the next tw\n",
        "t blonde hair is caused by a recessive gene . In order for a child to have blonde\n",
        "to have blonde hair , it must have the gene on both sides of the family in the gra\n",
        "there is a disadvantage of having that gene or by chance . They don ' t disappear\n",
        "ondes would disappear is if having the gene was a disadvantage and I do not think'''\n",
        "words = word_tokenize(sentence) \n",
        "\n",
        "for w in words: \n",
        "\tprint(w, \" : \", ps.stem(w)) \n"
      ],
      "execution_count": null,
      "outputs": [
        {
          "output_type": "stream",
          "text": [
            "they  :  they\n",
            "say  :  say\n",
            "too  :  too\n",
            "few  :  few\n",
            "people  :  peopl\n",
            "now  :  now\n",
            "carry  :  carri\n",
            "the  :  the\n",
            "gene  :  gene\n",
            "for  :  for\n",
            "blondes  :  blond\n",
            "to  :  to\n",
            "last  :  last\n",
            "beyond  :  beyond\n",
            "the  :  the\n",
            "next  :  next\n",
            "tw  :  tw\n",
            "t  :  t\n",
            "blonde  :  blond\n",
            "hair  :  hair\n",
            "is  :  is\n",
            "caused  :  caus\n",
            "by  :  by\n",
            "a  :  a\n",
            "recessive  :  recess\n",
            "gene  :  gene\n",
            ".  :  .\n",
            "In  :  In\n",
            "order  :  order\n",
            "for  :  for\n",
            "a  :  a\n",
            "child  :  child\n",
            "to  :  to\n",
            "have  :  have\n",
            "blonde  :  blond\n",
            "to  :  to\n",
            "have  :  have\n",
            "blonde  :  blond\n",
            "hair  :  hair\n",
            ",  :  ,\n",
            "it  :  it\n",
            "must  :  must\n",
            "have  :  have\n",
            "the  :  the\n",
            "gene  :  gene\n",
            "on  :  on\n",
            "both  :  both\n",
            "sides  :  side\n",
            "of  :  of\n",
            "the  :  the\n",
            "family  :  famili\n",
            "in  :  in\n",
            "the  :  the\n",
            "gra  :  gra\n",
            "there  :  there\n",
            "is  :  is\n",
            "a  :  a\n",
            "disadvantage  :  disadvantag\n",
            "of  :  of\n",
            "having  :  have\n",
            "that  :  that\n",
            "gene  :  gene\n",
            "or  :  or\n",
            "by  :  by\n",
            "chance  :  chanc\n",
            ".  :  .\n",
            "They  :  they\n",
            "don  :  don\n",
            "'  :  '\n",
            "t  :  t\n",
            "disappear  :  disappear\n",
            "ondes  :  ond\n",
            "would  :  would\n",
            "disappear  :  disappear\n",
            "is  :  is\n",
            "if  :  if\n",
            "having  :  have\n",
            "the  :  the\n",
            "gene  :  gene\n",
            "was  :  wa\n",
            "a  :  a\n",
            "disadvantage  :  disadvantag\n",
            "and  :  and\n",
            "I  :  I\n",
            "do  :  do\n",
            "not  :  not\n",
            "think  :  think\n"
          ],
          "name": "stdout"
        }
      ]
    },
    {
      "cell_type": "code",
      "metadata": {
        "colab": {
          "base_uri": "https://localhost:8080/"
        },
        "id": "pHIpIq7BjiIl",
        "outputId": "2e810276-fc57-4b46-bf03-d7cd2cb916ed"
      },
      "source": [
        "import nltk\n",
        "nltk.download('wordnet')"
      ],
      "execution_count": null,
      "outputs": [
        {
          "output_type": "stream",
          "text": [
            "[nltk_data] Downloading package wordnet to /root/nltk_data...\n",
            "[nltk_data]   Unzipping corpora/wordnet.zip.\n"
          ],
          "name": "stdout"
        },
        {
          "output_type": "execute_result",
          "data": {
            "text/plain": [
              "True"
            ]
          },
          "metadata": {
            "tags": []
          },
          "execution_count": 22
        }
      ]
    },
    {
      "cell_type": "code",
      "metadata": {
        "colab": {
          "base_uri": "https://localhost:8080/"
        },
        "id": "3C61vourjLT7",
        "outputId": "0c97da02-60fc-4dcc-ce0f-ad0c5007cf5a"
      },
      "source": [
        "from nltk.stem import WordNetLemmatizer \n",
        "\n",
        "lemmatizer = WordNetLemmatizer() \n",
        "\n",
        "print(\"rocks :\", lemmatizer.lemmatize(\"rocks\")) \n",
        "print(\"corpora :\", lemmatizer.lemmatize(\"corpora\")) \n",
        "\n",
        "print(\"better :\", lemmatizer.lemmatize(\"better\", pos =\"a\")) \n"
      ],
      "execution_count": null,
      "outputs": [
        {
          "output_type": "stream",
          "text": [
            "rocks : rock\n",
            "corpora : corpus\n",
            "better : good\n"
          ],
          "name": "stdout"
        }
      ]
    },
    {
      "cell_type": "code",
      "metadata": {
        "colab": {
          "base_uri": "https://localhost:8080/"
        },
        "id": "35OveK0nkObq",
        "outputId": "01fccfc9-e2e6-4962-b669-428efd8aec43"
      },
      "source": [
        "from nltk.probability import ConditionalFreqDist \n",
        "from nltk.tokenize import word_tokenize \n",
        "\t\n",
        "tk = ConditionalFreqDist() \n",
        "\t\n",
        "m = \"programmer do programming because they are programmer\"\n",
        "\t\n",
        "for word in word_tokenize(m): \n",
        "  condition = len(word) \n",
        "  tk[condition][word] += 1\n",
        "\t\n",
        "print(tk) \n"
      ],
      "execution_count": null,
      "outputs": [
        {
          "output_type": "stream",
          "text": [
            "<ConditionalFreqDist with 6 conditions>\n"
          ],
          "name": "stdout"
        }
      ]
    }
  ]
}